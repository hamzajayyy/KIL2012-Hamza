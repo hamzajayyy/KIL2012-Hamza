{
 "cells": [
  {
   "cell_type": "code",
   "execution_count": 1,
   "id": "d5c21efd",
   "metadata": {},
   "outputs": [],
   "source": [
    "import csv\n",
    "with open('students.csv', 'r') as readfile:\n",
    "    with open('top_students.csv','w',newline = '') as writefile:\n",
    "        writer = csv.writer(writefile)\n",
    "        writer.writerow(['Name','Age','Grade','Status'])\n",
    "        csv_reader = csv.DictReader(readfile)\n",
    "        \n",
    "        for row in csv_reader:\n",
    "            if row['Grade'] == 'A':\n",
    "                writer.writerow([row['Name'],row['Age'],row['Grade'], 'Passed'])\n",
    "            elif row['Grade'] == 'B':\n",
    "                writer.writerow([row['Name'],row['Age'],row['Grade'], 'Passed'])\n",
    "            else:\n",
    "                continue\n",
    "                \n",
    "    "
   ]
  },
  {
   "cell_type": "code",
   "execution_count": null,
   "id": "e9a5f583",
   "metadata": {},
   "outputs": [],
   "source": []
  }
 ],
 "metadata": {
  "kernelspec": {
   "display_name": "Python 3 (ipykernel)",
   "language": "python",
   "name": "python3"
  },
  "language_info": {
   "codemirror_mode": {
    "name": "ipython",
    "version": 3
   },
   "file_extension": ".py",
   "mimetype": "text/x-python",
   "name": "python",
   "nbconvert_exporter": "python",
   "pygments_lexer": "ipython3",
   "version": "3.11.5"
  }
 },
 "nbformat": 4,
 "nbformat_minor": 5
}
