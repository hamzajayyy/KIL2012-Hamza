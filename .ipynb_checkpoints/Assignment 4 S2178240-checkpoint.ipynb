{
 "cells": [
  {
   "cell_type": "code",
   "execution_count": 1,
   "id": "45fb20d7",
   "metadata": {},
   "outputs": [],
   "source": [
    "def checkout_books(librarian_name,*book_titles,duration='2 weeks',special_conditions = 'None',**details):\n",
    "    print(\"Checkout Processed by: \" + librarian_name)\n",
    "    print(\"Books Checked out:\")\n",
    "    for book_name in book_titles:\n",
    "        print(\"-\" + book_name)\n",
    "    print(\"Checkout Duration: \"+duration)\n",
    "    print(\"Additional Checkout Details:\")\n",
    "    for detail, value in details.items():\n",
    "        print(\"- \" + detail.replace('_', ' ').title() + \": \" + str(value))\n",
    "    print(\"Special Conditions:\")\n",
    "    print(\"-\" + special_conditions)\n",
    "    "
   ]
  },
  {
   "cell_type": "code",
   "execution_count": 8,
   "id": "02607902",
   "metadata": {},
   "outputs": [
    {
     "name": "stdout",
     "output_type": "stream",
     "text": [
      "Checkout Processed by: Hamza Jay\n",
      "Books Checked out:\n",
      "-MockingJay\n",
      "-TestBook\n",
      "Checkout Duration: 2 weeks\n",
      "Additional Checkout Details:\n",
      "- Late Fees: 5RM\n",
      "- Renewals Allowed: 3\n",
      "Special Conditions:\n",
      "-Handle with care\n"
     ]
    }
   ],
   "source": [
    "checkout_books(\"Hamza Jay\",\"MockingJay\",\"TestBook\",late_fees = '5RM', renewals_allowed = '3',special_conditions = 'Handle with care')"
   ]
  },
  {
   "cell_type": "code",
   "execution_count": null,
   "id": "60c5699d",
   "metadata": {},
   "outputs": [],
   "source": []
  }
 ],
 "metadata": {
  "kernelspec": {
   "display_name": "Python 3 (ipykernel)",
   "language": "python",
   "name": "python3"
  },
  "language_info": {
   "codemirror_mode": {
    "name": "ipython",
    "version": 3
   },
   "file_extension": ".py",
   "mimetype": "text/x-python",
   "name": "python",
   "nbconvert_exporter": "python",
   "pygments_lexer": "ipython3",
   "version": "3.11.5"
  }
 },
 "nbformat": 4,
 "nbformat_minor": 5
}
