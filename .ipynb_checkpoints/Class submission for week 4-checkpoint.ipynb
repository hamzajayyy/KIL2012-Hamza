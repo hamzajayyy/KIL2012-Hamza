{
 "cells": [
  {
   "cell_type": "code",
   "execution_count": null,
   "id": "cca657d3",
   "metadata": {},
   "outputs": [],
   "source": [
    "def simple_calculator():\n",
    "    loop = 1\n",
    "    while loop == 1:\n",
    "        input1 = int(input('Enter the numerator'))\n",
    "        input2 = int(input('Enter the denominator'))\n",
    "        try :\n",
    "            answer = input1/input2\n",
    "            print(\"the answer is \", answer)\n",
    "            loop = 0\n",
    "        except ValueError:\n",
    "            print(\"The number you entered was invalid. Please enter a new number\")\n",
    "            loopcheck = input(\"if you wish to try again, please type 'Continue'\")\n",
    "            if loopcheck == \"Continue\":\n",
    "                loop = 1\n",
    "            else:\n",
    "                loop = 0\n",
    "            \n",
    "        except ZeroDivisionError:\n",
    "            print(\"The denomiator you entered was 0. Please enter a new denomitator\")\n",
    "            loopcheck = input(\"if you wish to try again, please type 'Continue'\")\n",
    "            if loopcheck == \"Continue\":\n",
    "                loop = 1\n",
    "            else:\n",
    "                loop = 0\n"
   ]
  },
  {
   "cell_type": "code",
   "execution_count": null,
   "id": "0917ad20",
   "metadata": {},
   "outputs": [],
   "source": [
    "simple_calculator()\n"
   ]
  },
  {
   "cell_type": "code",
   "execution_count": null,
   "id": "816b57b6",
   "metadata": {},
   "outputs": [
    {
     "name": "stdout",
     "output_type": "stream",
     "text": [
      "Enter the numerator1\n",
      "Enter the denominator2\n",
      "the answer is  0.5\n"
     ]
    }
   ],
   "source": []
  },
  {
   "cell_type": "code",
   "execution_count": null,
   "id": "0efa41bd",
   "metadata": {},
   "outputs": [],
   "source": []
  }
 ],
 "metadata": {
  "kernelspec": {
   "display_name": "Python 3 (ipykernel)",
   "language": "python",
   "name": "python3"
  },
  "language_info": {
   "codemirror_mode": {
    "name": "ipython",
    "version": 3
   },
   "file_extension": ".py",
   "mimetype": "text/x-python",
   "name": "python",
   "nbconvert_exporter": "python",
   "pygments_lexer": "ipython3",
   "version": "3.11.5"
  }
 },
 "nbformat": 4,
 "nbformat_minor": 5
}
