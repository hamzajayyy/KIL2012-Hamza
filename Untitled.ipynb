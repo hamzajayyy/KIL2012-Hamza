{
 "cells": [
  {
   "cell_type": "code",
   "execution_count": 11,
   "id": "fcc032a5",
   "metadata": {},
   "outputs": [],
   "source": [
    "with open('example.txt','w') as file:\n",
    "    content = file.write('hey world')"
   ]
  },
  {
   "cell_type": "code",
   "execution_count": 12,
   "id": "54c6307e",
   "metadata": {},
   "outputs": [
    {
     "name": "stdout",
     "output_type": "stream",
     "text": [
      "9\n"
     ]
    }
   ],
   "source": [
    "print(content)\n"
   ]
  },
  {
   "cell_type": "code",
   "execution_count": 14,
   "id": "59bb3fbc",
   "metadata": {},
   "outputs": [
    {
     "name": "stdout",
     "output_type": "stream",
     "text": [
      "Alice\n",
      "Bob\n",
      "Charlie\n",
      "David\n",
      "Eve\n",
      "Fiona\n",
      "George\n",
      "Hannah\n",
      "Isla\n",
      "Jack\n",
      "Alice\n",
      "Bob\n",
      "Charlie\n",
      "David\n",
      "Eve\n",
      "Fiona\n",
      "George\n",
      "Hannah\n",
      "Isla\n",
      "Jack\n",
      "Alice\n",
      "Bob\n",
      "Charlie\n",
      "David\n",
      "Eve\n",
      "Fiona\n",
      "George\n",
      "Hannah\n",
      "Isla\n",
      "Jack\n",
      "Alice\n",
      "Bob\n",
      "Charlie\n",
      "David\n",
      "Eve\n",
      "Fiona\n",
      "George\n",
      "Hannah\n",
      "Isla\n",
      "Jack\n",
      "Alice\n",
      "Bob\n",
      "Charlie\n",
      "David\n",
      "Eve\n",
      "Fiona\n",
      "George\n",
      "Hannah\n",
      "Isla\n",
      "Jack\n",
      "Alice\n",
      "Bob\n",
      "Charlie\n",
      "David\n",
      "Eve\n",
      "Fiona\n",
      "George\n",
      "Hannah\n",
      "Isla\n",
      "Jack\n",
      "Alice\n",
      "Bob\n",
      "Charlie\n",
      "David\n",
      "Eve\n",
      "Fiona\n",
      "George\n",
      "Hannah\n",
      "Isla\n",
      "Jack\n",
      "Alice\n",
      "Bob\n",
      "Charlie\n",
      "David\n",
      "Eve\n",
      "Fiona\n",
      "George\n",
      "Hannah\n",
      "Isla\n",
      "Jack\n",
      "Alice\n",
      "Bob\n",
      "Charlie\n",
      "David\n",
      "Eve\n",
      "Fiona\n",
      "George\n",
      "Hannah\n",
      "Isla\n",
      "Jack\n",
      "Alice\n",
      "Bob\n",
      "Charlie\n",
      "David\n",
      "Eve\n",
      "Fiona\n",
      "George\n",
      "Hannah\n",
      "Isla\n",
      "Jack\n"
     ]
    }
   ],
   "source": [
    "import csv\n",
    "with open('students1.csv','r') as file:\n",
    "    csv_reader = csv.DictReader(file)\n",
    "    for row in csv_reader:\n",
    "        print(row['Name'])"
   ]
  },
  {
   "cell_type": "code",
   "execution_count": 37,
   "id": "c15dcf2f",
   "metadata": {},
   "outputs": [],
   "source": [
    "import csv\n",
    "with open('students1.csv','r') as fileread:\n",
    "    reader = csv.reader(fileread)\n",
    "    dictreader = csv.DictReader(fileread)\n",
    "    with open('students1.csv','a',newline=\"\") as filewrite:\n",
    "        writer = csv.writer(filewrite)\n",
    "        \n",
    "        for row in reader:\n",
    "            if row == 0:\n",
    "                writer.writerow('Status')\n",
    "        for row in dictreader:\n",
    "            if row['Grade'] == 'A':\n",
    "                writer.writerow('Passed')\n",
    "                \n",
    "    "
   ]
  },
  {
   "cell_type": "code",
   "execution_count": 2,
   "id": "23e8cf6c",
   "metadata": {},
   "outputs": [
    {
     "name": "stdout",
     "output_type": "stream",
     "text": [
      "State: Johor, Capital: Johor Bahru, Population: 3794000\n",
      "State: Kedah, Capital: Alor Setar, Population: 2194100\n",
      "State: Kelantan, Capital: Kota Bharu, Population: 1928800\n",
      "State: Malacca, Capital: Malacca City, Population: 937500\n",
      "State: Negeri Sembilan, Capital: Seremban, Population: 1129100\n",
      "State: Pahang, Capital: Kuantan, Population: 1684600\n",
      "State: Penang, Capital: George Town, Population: 1774400\n",
      "State: Perak, Capital: Ipoh, Population: 2508900\n",
      "State: Perlis, Capital: Kangar, Population: 255400\n",
      "State: Sabah, Capital: Kota Kinabalu, Population: 3833000\n",
      "State: Sarawak, Capital: Kuching, Population: 2822200\n",
      "State: Selangor, Capital: Shah Alam, Population: 6555400\n",
      "State: Terengganu, Capital: Kuala Terengganu, Population: 1275100\n",
      "State: Kuala Lumpur, Capital: Kuala Lumpur, Population: 1746600\n",
      "State: Labuan, Capital: Victoria, Population: 100100\n",
      "State: Putrajaya, Capital: Putrajaya, Population: 116100\n"
     ]
    }
   ],
   "source": [
    "import requests\n",
    "api_url = \"https://jian.sh/malaysia-api/state/v1/all.json\"\n",
    "response = requests.get(api_url)\n",
    "malaysia_state_data = response.json()\n",
    "for state in malaysia_state_data:\n",
    "    print(f\"State: {state['state']}, Capital: {state['capital']}, Population: {state['population']}\")\n"
   ]
  },
  {
   "cell_type": "code",
   "execution_count": null,
   "id": "9f144bb8",
   "metadata": {},
   "outputs": [],
   "source": []
  }
 ],
 "metadata": {
  "kernelspec": {
   "display_name": "Python 3 (ipykernel)",
   "language": "python",
   "name": "python3"
  },
  "language_info": {
   "codemirror_mode": {
    "name": "ipython",
    "version": 3
   },
   "file_extension": ".py",
   "mimetype": "text/x-python",
   "name": "python",
   "nbconvert_exporter": "python",
   "pygments_lexer": "ipython3",
   "version": "3.11.5"
  }
 },
 "nbformat": 4,
 "nbformat_minor": 5
}
